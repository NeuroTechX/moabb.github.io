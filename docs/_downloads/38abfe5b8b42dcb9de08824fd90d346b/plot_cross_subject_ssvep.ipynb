{
  "cells": [
    {
      "cell_type": "code",
      "execution_count": null,
      "metadata": {
        "collapsed": false
      },
      "outputs": [],
      "source": [
        "%matplotlib inline"
      ]
    },
    {
      "cell_type": "markdown",
      "metadata": {},
      "source": [
        "\n# Cross Subject SSVEP\n\nThis example shows how to perform a cross subject analysis on a SSVEP dataset.\nWe will compare two pipelines :\n- Riemannian Geometry\n- CCA\nWe will use the SSVEP paradigm, which uses the AUC as metric.\n\n"
      ]
    },
    {
      "cell_type": "code",
      "execution_count": null,
      "metadata": {
        "collapsed": false
      },
      "outputs": [],
      "source": [
        "# Authors: Sylvain Chevallier <sylvain.chevallier@uvsq.fr>\n#\n# License: BSD (3-clause)\n\nfrom sklearn.pipeline import make_pipeline\nfrom sklearn.linear_model import LogisticRegression\n\nfrom pyriemann.tangentspace import TangentSpace\nfrom pyriemann.estimation import Covariances\n\nfrom moabb.evaluations import CrossSubjectEvaluation\nfrom moabb.paradigms import SSVEP, FilterBankSSVEP\nfrom moabb.datasets import SSVEPExo\nfrom moabb.pipelines import SSVEP_CCA, ExtendedSSVEPSignal\nimport moabb\n\nimport pandas as pd\nimport seaborn as sns\nimport matplotlib.pyplot as plt\nimport warnings\n\nwarnings.simplefilter(action='ignore', category=FutureWarning)\nwarnings.simplefilter(action='ignore', category=RuntimeWarning)\nmoabb.set_log_level('info')"
      ]
    },
    {
      "cell_type": "markdown",
      "metadata": {},
      "source": [
        "Loading dataset\n---------------\n\nWe will load the data from the first 2 subjects of the SSVEP_Exo dataset\nand compare two algorithms on this set. One of the algorithm could only\nprocess class associated with a stimulation frequency, we will thus drop\nthe resting class. As the resting class is the last defined class, picking\nthe first three classes (out of four) allows to focus only on the stimulation\nfrequency.\n\n"
      ]
    },
    {
      "cell_type": "code",
      "execution_count": null,
      "metadata": {
        "collapsed": false
      },
      "outputs": [],
      "source": [
        "n_subject = 2\nfor i in range(n_subject):\n    SSVEPExo()._get_single_subject_data(i + 1)\ndataset = SSVEPExo()\ndataset.subject_list = dataset.subject_list[:n_subject]\ninterval = dataset.interval\nparadigm = SSVEP(fmin=10, fmax=25, n_classes=3)\nparadigm_fb = FilterBankSSVEP(filters=None, n_classes=3)\n\n# Classes are defined by the frequency of the stimulation, here we use\n# the first two frequencies of the dataset, 13 and 17 Hz.\n# The evaluation function uses a LabelEncoder, transforming them\n# to 0 and 1\n\nfreqs = paradigm.used_events(dataset)"
      ]
    },
    {
      "cell_type": "markdown",
      "metadata": {},
      "source": [
        "Create pipelines\n----------------\n\nPipelines must be a dict of sklearn pipeline transformer.\nThe first pipeline uses Riemannian geometry, by building an extended\ncovariance matrices from the signal filtered around the considered\nfrequency and applying a logistic regression in the tangent plane.\nThe second pipeline relies on the above defined CCA classifier.\n\n"
      ]
    },
    {
      "cell_type": "code",
      "execution_count": null,
      "metadata": {
        "collapsed": false
      },
      "outputs": [],
      "source": [
        "pipelines_fb = {}\npipelines_fb['RG + LogReg'] = make_pipeline(\n    ExtendedSSVEPSignal(),\n    Covariances(estimator='lwf'),\n    TangentSpace(),\n    LogisticRegression(solver='lbfgs', multi_class='auto'))\n\npipelines = {}\npipelines['CCA'] = make_pipeline(\n    SSVEP_CCA(interval=interval, freqs=freqs, n_harmonics=3))"
      ]
    },
    {
      "cell_type": "markdown",
      "metadata": {},
      "source": [
        "Evaluation\n----------\n\nWe define the paradigm (SSVEP) and use the dataset available for it.\nThe evaluation will return a dataframe containing a single AUC score for\neach subject / session of the dataset, and for each pipeline.\n\nResults are saved into the database, so that if you add a new pipeline, it\nwill not run again the evaluation unless a parameter has changed. Results can\nbe overwritten if necessary.\n\n"
      ]
    },
    {
      "cell_type": "code",
      "execution_count": null,
      "metadata": {
        "collapsed": false
      },
      "outputs": [],
      "source": [
        "overwrite = False  # set to True if we want to overwrite cached results\n\nevaluation = CrossSubjectEvaluation(paradigm=paradigm,\n                                    datasets=dataset, overwrite=overwrite)\nresults = evaluation.process(pipelines)\n\n# Filter bank processing, determine automatically the filter from the\n# stimulation frequency values of events.\nevaluation_fb = CrossSubjectEvaluation(paradigm=paradigm_fb,\n                                       datasets=dataset, overwrite=overwrite)\nresults_fb = evaluation_fb.process(pipelines_fb)"
      ]
    },
    {
      "cell_type": "markdown",
      "metadata": {},
      "source": [
        "After processing the two, we simply concatenate the results.\n\n"
      ]
    },
    {
      "cell_type": "code",
      "execution_count": null,
      "metadata": {
        "collapsed": false
      },
      "outputs": [],
      "source": [
        "results = pd.concat([results, results_fb])"
      ]
    },
    {
      "cell_type": "markdown",
      "metadata": {},
      "source": [
        "Plot Results\n----------------\n\nHere we plot the results.\n\n"
      ]
    },
    {
      "cell_type": "code",
      "execution_count": null,
      "metadata": {
        "collapsed": false
      },
      "outputs": [],
      "source": [
        "fig, ax = plt.subplots(facecolor='white', figsize=[8, 4])\nsns.stripplot(data=results, y='score', x='pipeline', ax=ax, jitter=True,\n              alpha=.5, zorder=1, palette=\"Set1\")\nsns.pointplot(data=results, y='score', x='pipeline', ax=ax,\n              zorder=1, palette=\"Set1\")\nax.set_ylabel('Accuracy')\nax.set_ylim(0.1, 0.6)\nplt.savefig('ssvep.png')\nfig.show()"
      ]
    }
  ],
  "metadata": {
    "kernelspec": {
      "display_name": "Python 3",
      "language": "python",
      "name": "python3"
    },
    "language_info": {
      "codemirror_mode": {
        "name": "ipython",
        "version": 3
      },
      "file_extension": ".py",
      "mimetype": "text/x-python",
      "name": "python",
      "nbconvert_exporter": "python",
      "pygments_lexer": "ipython3",
      "version": "3.6.1"
    }
  },
  "nbformat": 4,
  "nbformat_minor": 0
}